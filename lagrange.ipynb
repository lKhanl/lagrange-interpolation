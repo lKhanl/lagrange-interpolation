{
  "nbformat": 4,
  "nbformat_minor": 0,
  "metadata": {
    "colab": {
      "name": "lagrange.ipynb",
      "provenance": [],
      "collapsed_sections": [],
      "include_colab_link": true
    },
    "kernelspec": {
      "name": "python3",
      "display_name": "Python 3"
    },
    "language_info": {
      "name": "python"
    }
  },
  "cells": [
    {
      "cell_type": "markdown",
      "metadata": {
        "id": "view-in-github",
        "colab_type": "text"
      },
      "source": [
        "<a href=\"https://colab.research.google.com/github/lKhanl/lagrange-interpolation/blob/main/lagrange.ipynb\" target=\"_parent\"><img src=\"https://colab.research.google.com/assets/colab-badge.svg\" alt=\"Open In Colab\"/></a>"
      ]
    },
    {
      "cell_type": "code",
      "metadata": {
        "id": "sTywXzwAA0uJ"
      },
      "source": [
        "import numpy as np\n",
        "import matplotlib.pyplot as plt"
      ],
      "execution_count": 49,
      "outputs": []
    },
    {
      "cell_type": "markdown",
      "metadata": {
        "id": "ncp30OeYFhpf"
      },
      "source": [
        "Inputs"
      ]
    },
    {
      "cell_type": "code",
      "metadata": {
        "id": "jP7V8qXZ_LlM"
      },
      "source": [
        "x = np.array([20, 21, 23, 24, 25, 27, 29, 30],float)\n",
        "y = np.array([346, 362, 343, 339, 347, 346, 339, 394],float)"
      ],
      "execution_count": 50,
      "outputs": []
    },
    {
      "cell_type": "code",
      "metadata": {
        "id": "HYwqeMP7oqvC"
      },
      "source": [
        "def langrange (x, y, predict):\n",
        "  yp = 0\n",
        "  for i in range(len(x)):\n",
        "    p = 1\n",
        "    for j in range(len(x)):\n",
        "      if j != i:\n",
        "        p *= (predict - x[j]) / (x[i] - x[j])\n",
        "    yp += y[i] * p\n",
        "  return yp"
      ],
      "execution_count": 51,
      "outputs": []
    },
    {
      "cell_type": "code",
      "metadata": {
        "id": "oCVt5AenpVL9",
        "colab": {
          "base_uri": "https://localhost:8080/"
        },
        "outputId": "2f362a87-1ad4-4bef-bbd9-1dafefb95ef6"
      },
      "source": [
        "result = langrange(x, y, 26)\n",
        "print(\"Result is \" + str(result))"
      ],
      "execution_count": 52,
      "outputs": [
        {
          "output_type": "stream",
          "text": [
            "Result is 353.3607142857143\n"
          ],
          "name": "stdout"
        }
      ]
    },
    {
      "cell_type": "markdown",
      "metadata": {
        "id": "h7BPRLaOFemf"
      },
      "source": [
        "Ploting"
      ]
    },
    {
      "cell_type": "code",
      "metadata": {
        "id": "tOJWRpqRFH0f"
      },
      "source": [
        "xplt = np.linspace(x[0], x[-1])\n",
        "yplt = np.array([], float)"
      ],
      "execution_count": 53,
      "outputs": []
    },
    {
      "cell_type": "code",
      "metadata": {
        "id": "7T3crbSoFQLu"
      },
      "source": [
        "for xp in xplt:\n",
        "  yp = langrange(x, y, xp)\n",
        "  yplt = np.append(yplt, yp)"
      ],
      "execution_count": 54,
      "outputs": []
    },
    {
      "cell_type": "code",
      "metadata": {
        "id": "LeWUI8f3lv_9",
        "colab": {
          "base_uri": "https://localhost:8080/",
          "height": 265
        },
        "outputId": "59c3b7fb-8454-4726-ff6c-74587a617229"
      },
      "source": [
        "plt.plot(x, y, \"ro\", xplt, yplt, \"b-\")\n",
        "plt.show()"
      ],
      "execution_count": 55,
      "outputs": [
        {
          "output_type": "display_data",
          "data": {
            "image/png": "[encoded data removed]",
            "text/plain": [
              "<Figure size 432x288 with 1 Axes>"
            ]
          },
          "metadata": {
            "tags": [],
            "needs_background": "light"
          }
        }
      ]
    }
  ]
}